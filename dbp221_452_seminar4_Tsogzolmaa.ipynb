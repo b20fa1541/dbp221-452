{
 "cells": [
  {
   "cell_type": "code",
   "execution_count": 1,
   "id": "7686cc66",
   "metadata": {
    "scrolled": true
   },
   "outputs": [
    {
     "name": "stdout",
     "output_type": "stream",
     "text": [
      "Array of all the even integers from 50 to 100\n",
      "[ 50  51  52  53  54  55  56  57  58  59  60  61  62  63  64  65  66  67\n",
      "  68  69  70  71  72  73  74  75  76  77  78  79  80  81  82  83  84  85\n",
      "  86  87  88  89  90  91  92  93  94  95  96  97  98  99 100]\n"
     ]
    }
   ],
   "source": [
    "#1\n",
    "import numpy as np\n",
    "array=np.arange(50,101)\n",
    "print(\"Array of all the even integers from 50 to 100\")\n",
    "print(array)"
   ]
  },
  {
   "cell_type": "code",
   "execution_count": 2,
   "id": "fbc3ca58",
   "metadata": {},
   "outputs": [
    {
     "name": "stdout",
     "output_type": "stream",
     "text": [
      "An array of 10 zeros:\n",
      "[0. 0. 0. 0. 0. 0. 0. 0. 0. 0.]\n",
      "An array of 10 ones:\n",
      "[1. 1. 1. 1. 1. 1. 1. 1. 1. 1.]\n",
      "An array of 10 fives:\n",
      "[6. 6. 6. 6. 6. 6. 6. 6. 6. 6.]\n"
     ]
    }
   ],
   "source": [
    "#2\n",
    "import numpy as np\n",
    "array=np.zeros(10)\n",
    "print(\"An array of 10 zeros:\")\n",
    "print(array)\n",
    "array=np.ones(10)\n",
    "print(\"An array of 10 ones:\")\n",
    "print(array)\n",
    "array=np.ones(10)*6\n",
    "print(\"An array of 10 fives:\")\n",
    "print(array)"
   ]
  },
  {
   "cell_type": "code",
   "execution_count": 41,
   "id": "87e4d677",
   "metadata": {},
   "outputs": [
    {
     "name": "stdout",
     "output_type": "stream",
     "text": [
      "Array of all the even integers from 20 to 32\n",
      "[[20 21 22 23]\n",
      " [24 25 26 27]\n",
      " [28 29 30 31]]\n"
     ]
    }
   ],
   "source": [
    "#3\n",
    "import numpy as np\n",
    "array=np.arange(20,32)\n",
    "a = np.reshape(array,(3,4))\n",
    "print(\"Array of all the even integers from 20 to 32\")\n",
    "print(a)"
   ]
  },
  {
   "cell_type": "code",
   "execution_count": 38,
   "id": "b83fa3e2",
   "metadata": {},
   "outputs": [
    {
     "name": "stdout",
     "output_type": "stream",
     "text": [
      "[[1 0 0]\n",
      " [0 1 0]\n",
      " [0 0 1]]\n"
     ]
    }
   ],
   "source": [
    "#4\n",
    "import numpy as np\n",
    "x = np.diag([1, 1, 1])\n",
    "print(x)"
   ]
  },
  {
   "cell_type": "code",
   "execution_count": 39,
   "id": "bd1336ac",
   "metadata": {},
   "outputs": [
    {
     "name": "stdout",
     "output_type": "stream",
     "text": [
      "[[1. 0. 0.]\n",
      " [0. 1. 0.]\n",
      " [0. 0. 1.]]\n"
     ]
    }
   ],
   "source": [
    "#4\n",
    "import numpy as np\n",
    "print(np.eye(3))"
   ]
  },
  {
   "cell_type": "code",
   "execution_count": 18,
   "id": "47baa6e0",
   "metadata": {},
   "outputs": [
    {
     "name": "stdout",
     "output_type": "stream",
     "text": [
      "[[1 0 0 0 0]\n",
      " [0 2 0 0 0]\n",
      " [0 0 3 0 0]\n",
      " [0 0 0 4 0]\n",
      " [0 0 0 0 5]]\n"
     ]
    }
   ],
   "source": [
    "#5\n",
    "import numpy as np\n",
    "x = np.diag([1, 2, 3, 4, 5])\n",
    "print(x)"
   ]
  },
  {
   "cell_type": "code",
   "execution_count": 39,
   "id": "97765090",
   "metadata": {},
   "outputs": [
    {
     "name": "stdout",
     "output_type": "stream",
     "text": [
      "[[1 2 3 4]\n",
      " [5 6 7 8]]\n",
      "36\n",
      "[10 26]\n",
      "[ 6  8 10 12]\n"
     ]
    }
   ],
   "source": [
    "#6\n",
    "data1 = [[1, 2, 3, 4], [5, 6, 7, 8]]\n",
    "arr1 = np.array(data1)\n",
    "x = np.sum(arr1)\n",
    "print(arr1)\n",
    "print(x)\n",
    "print(arr1.sum(axis=1))\n",
    "print(arr1.sum(axis=0))"
   ]
  },
  {
   "cell_type": "code",
   "execution_count": 49,
   "id": "cf1c7734",
   "metadata": {
    "scrolled": true
   },
   "outputs": [],
   "source": [
    "#Salaries\n",
    "KobeBryant_Salary = [27849149,30453805,23500000, 250000000,0,0,0,0,0,0]\n",
    "JoeJohnson_Salary = [19752645,21466718,23180790, 22309344,11000000,10254904,0,0,0,0]\n",
    "LeBronJames_Salary = [17545000,19067500,20644400, 22970500,30963450,33285709,35654150,37436858,39219566,0]\n",
    "CarmeloAnthony_Salary = [19450000,22407474,22458000, 22875000,24559380,26243760,2393887,2159029,2564753,0]\n",
    "DwightHoward_Salary = [19536360,20513178,21436271,22359364,23180275, 23500000, 24256725, 5443553, 2564753, 2641691]\n",
    "ChrisBosh_Salary = [17545000,19067500,20644400,22192730, 23741060, 25289390, 26837720, 0,0,0]\n",
    "ChrisPaul_Salary = [17779458,18668431,20068563,21468695, 22868827,24268959, 35654150, 38506482, 41358814, 30800000]\n",
    "KevinDurant_Salary = [16669630,17832627,18995624,20158622, 26540100, 25000000, 30000000, 38199000, 38771513, 42018900]\n",
    "DerrickRose_Salary = [16402500,17632688,18862875, 20093064, 21323252, 2525077, 2393887, 6859756, 7682927, 13445120]\n",
    "DwayneWade_Salary = [17182000,18673000,15000000, 20000000, 23200000, 17878652, 2393887, 0,0,0]\n",
    "#Matrix\n",
    "Salary = np.array([KobeBryant_Salary, JoeJohnson_Salary, LeBronJames_Salary, CarmeloAnthony_Salary, DwightHoward_Salary, ChrisBosh_Salary, ChrisPaul_Salary, KevinDurant_Salary, DerrickRose_Salary, DwayneWade_Salary])\n",
    "\n",
    "#Games \n",
    "KobeBryant = [78,6,35, 66,0,0,0,0,0,0]\n",
    "JoeJohnson = [72,79,80, 81,57,24,78,55,0,0]\n",
    "LeBronJames =[76,77,69, 76,74,82,55,67,45,48]\n",
    "CarmeloAnthony = [67,77,40, 72,74,78,2,58,3,3]\n",
    "DwightHoward = [76,71,41, 71,74,81,9,69,69,47]\n",
    "ChrisBosh = [74,79,44, 53,0,0,0,0,0,0]\n",
    "ChrisPaul = [70,62,82, 74,61,58,58,70,70,58]\n",
    "KevinDurant = [81,81,27, 72,62,68,78,0,32,0]\n",
    "DerrickRose = [0,10,51, 66,64,25,51,50,50,26]\n",
    "DwayneWade = [69,54,62, 74,60,67,72,0,0,0]\n",
    "#Matrix\n",
    "Games = np.array([KobeBryant, JoeJohnson, LeBronJames, CarmeloAnthony, DwightHoward, ChrisBosh, ChrisPaul, KevinDurant, DerrickRose, DwayneWade])\n",
    "#Field Goals\n",
    "KobeBryant_FG = [738,31,266, 398, 0,0,0,0]\n",
    "JoeJohnson_FG = [445,462,446, 377, 273, 146, 0,0]\n",
    "LeBronJames_FG = [765,767,624, 737, 736, 857, 558, 643 ]\n",
    "CarmeloAnthony_FG = [669,743,358,567, 602,472, 49, 336 ]\n",
    "DwightHoward_FG = [470,473,251, 372,388,506,43,202]\n",
    "ChrisBosh_FG = [485,492,343,358,0,0,0,0]\n",
    "ChrisPaul_FG = [412,406,568,515, 374, 367, 302, 434]\n",
    "KevinDurant_FG = [731,849,238,698, 551, 630, 721,0]\n",
    "DerrickRose_FG = [0,58,338,447, 460, 162, 363, 369]\n",
    "DwayneWade_FG = [569,415,509, 540, 414, 508, 416,0]\n",
    "#Matrix\n",
    "FieldGoals  = np.array([KobeBryant_FG, JoeJohnson_FG, LeBronJames_FG, CarmeloAnthony_FG, DwightHoward_FG, ChrisBosh_FG, ChrisPaul_FG, KevinDurant_FG, DerrickRose_FG, DwayneWade_FG])"
   ]
  },
  {
   "cell_type": "code",
   "execution_count": 50,
   "id": "03adc7ef",
   "metadata": {},
   "outputs": [
    {
     "name": "stdout",
     "output_type": "stream",
     "text": [
      "Total salary of each player:\n",
      "[189711742 205782921 204790923 444427319 207376344 188246451 159584406\n",
      " 128604678 132162326  88905711]\n",
      "Total salary of all players :\n",
      "[331802954 107964401 256787133 145111283 165432170 155317800 271442379\n",
      " 274186016 127221146 114327539]\n",
      "Total games of each player:\n",
      "[663 596 531 705 526 483 403 369 269 182]\n",
      "Total games of all players:\n",
      "[185 526 669 474 608 250 663 501 393 458]\n",
      "Total field goals of each player:\n",
      "[5284 4696 3941 5009 3798 3648 2452 1984]\n",
      "Total field goals of all players:\n",
      "[1433 2149 5687 3796 2705 1678 3378 4418 2197 3371]\n"
     ]
    }
   ],
   "source": [
    "print(\"Total salary of each player:\")\n",
    "print(np.sum(Salary, axis = 0))\n",
    "print(\"Total salary of all players :\")\n",
    "print(np.sum(Salary, axis = 1))\n",
    "print(\"Total games of each player:\")\n",
    "print(np.sum(Games, axis = 0))\n",
    "print(\"Total games of all players:\")\n",
    "print(np.sum(Games, axis = 1))\n",
    "print(\"Total field goals of each player:\")\n",
    "print(np.sum(FieldGoals, axis = 0))\n",
    "print(\"Total field goals of all players:\")\n",
    "print(np.sum(FieldGoals, axis = 1))"
   ]
  },
  {
   "cell_type": "code",
   "execution_count": null,
   "id": "45cdf2f5",
   "metadata": {},
   "outputs": [],
   "source": []
  }
 ],
 "metadata": {
  "kernelspec": {
   "display_name": "Python 3 (ipykernel)",
   "language": "python",
   "name": "python3"
  },
  "language_info": {
   "codemirror_mode": {
    "name": "ipython",
    "version": 3
   },
   "file_extension": ".py",
   "mimetype": "text/x-python",
   "name": "python",
   "nbconvert_exporter": "python",
   "pygments_lexer": "ipython3",
   "version": "3.9.7"
  }
 },
 "nbformat": 4,
 "nbformat_minor": 5
}
